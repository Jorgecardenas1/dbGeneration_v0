{
 "cells": [
  {
   "cell_type": "markdown",
   "id": "84a95f36-16c7-4ac4-bea6-7f7d233059fd",
   "metadata": {},
   "source": [
    "# Ansys HFSS Interface\n",
    "\n",
    "## _Versión 0.1_\n",
    "### Author: Jorge Cárdenas\n",
    "### Pontificia Universidad de Valparaíso\n",
    "This development is intended to provide an interface to access HFSS, in order to automate simulation and optimization processes.\n",
    "\n",
    "## Features\n",
    "\n",
    "- Automate the re-creation of models in aedt files.\n",
    "- Create intermediate files to run simulations.\n",
    "- Run simulations and gather specific metrics from the simualtor.\n"
   ]
  },
  {
   "cell_type": "code",
   "execution_count": 1,
   "id": "3dda262b-9c49-42c7-ad59-1b71b402c3ec",
   "metadata": {
    "tags": []
   },
   "outputs": [],
   "source": [
    "import sys  \n",
    "sys.path.insert(0, './src/')\n",
    "\n",
    "import os\n",
    "import uuid \n",
    "\n",
    "\n",
    "from __future__ import print_function\n",
    "#from Utilities.SaveAnimation import Video\n",
    "from dbuilder import Manager as MG\n",
    "\n"
   ]
  },
  {
   "cell_type": "markdown",
   "id": "dbd47847-88c2-4745-b003-75bc676fbde3",
   "metadata": {},
   "source": [
    "## Setup\n",
    "<p>In this section we prepare all variables to set the origin and destination folders for our resulting files</p>"
   ]
  },
  {
   "cell_type": "code",
   "execution_count": 2,
   "id": "e9f6107b-23f6-41c3-91b9-4860140d4138",
   "metadata": {
    "tags": []
   },
   "outputs": [],
   "source": [
    "ansysPath=\"C:\\\\Program Files\\\\AnsysEM\\\\AnsysEM21.2\\\\Win64\\\\ansysedt.exe\"\n",
    "modelName=\"box_01_freq_reflect\"\n",
    "modelPath=r\"C:/Users/jorge/Documents/Projects Jorge C/DRUIDA PROJECT/POC/dbGeneration_v0/Models/testing-multioutput/\"\n",
    "exportPath= \"C:\\\\Users\\\\jorge\\\\Documents\\\\Projects Jorge C\\\\DRUIDA PROJECT\\\\POC\\\\dbGeneration_v0\\\\Exports\"\n",
    "\n",
    "project_name=\"meta-atom_box_01_datageneration\"\n",
    "designName=\"HFSSDesign1\"\n",
    "\n",
    "#set simulation variables\n",
    "#This is run to create iterative simulations\n",
    "\n"
   ]
  },
  {
   "cell_type": "code",
   "execution_count": 3,
   "id": "ed39dcb8-533d-4138-b693-54fe2e8a7327",
   "metadata": {
    "tags": []
   },
   "outputs": [],
   "source": [
    "#Model builder\n",
    "\n",
    "#ansysPath,modelName, modelPath,exportPath\n",
    "\n",
    "Builder=MG.Builder(ansysPath=ansysPath,modelName=modelName,projectName=project_name, designName=designName,modelPath=modelPath, exportPath=exportPath)\n"
   ]
  },
  {
   "cell_type": "code",
   "execution_count": 35,
   "id": "eb404419-2116-449a-9a14-b748efdf7c5a",
   "metadata": {
    "tags": []
   },
   "outputs": [],
   "source": [
    "#ReCreate a aedt model from script \n",
    "#We are supposed to have previously worked our model out and keep a python script \n",
    "#to be used as source to create the geometry when required.\n",
    "\n",
    "Builder.create()"
   ]
  },
  {
   "cell_type": "code",
   "execution_count": 4,
   "id": "088f69e1-40f7-45e6-a1f5-10abe06d7d6c",
   "metadata": {
    "tags": []
   },
   "outputs": [],
   "source": [
    "#Generate batch of vectors to simulate\n",
    "import random\n",
    "\n",
    "def parameters_Generator(constraints, batch_size, vector_size):\n",
    "    x = [[0 for i in range(vector_size)] for j in range(batch_size)]\n",
    "\n",
    "    for vector in x:\n",
    "        for i, (k, v) in enumerate(constraints.items()):\n",
    "            vector[i]=random.uniform(constraints[k][\"max\"], constraints[k][\"min\"])\n",
    "            \n",
    "    return x\n",
    "    \n",
    "\n",
    "    "
   ]
  },
  {
   "cell_type": "markdown",
   "id": "d92370a1-3cdf-4ec8-843c-350f4507e8b4",
   "metadata": {},
   "source": [
    "## A full batch of simulation for box-shaped cells"
   ]
  },
  {
   "cell_type": "code",
   "execution_count": 5,
   "id": "e862cc19-6d30-4922-902f-e0168db5bab3",
   "metadata": {
    "tags": []
   },
   "outputs": [
    {
     "name": "stdout",
     "output_type": "stream",
     "text": [
      "\"C:/Users/jorge/Documents/Projects Jorge C/DRUIDA PROJECT/POC/dbGeneration_v0/Models/testing-multioutput/meta-atom_box_01_datageneration.aedt\"\n",
      "The new directory is created!\n",
      "\"C:/Users/jorge/Documents/Projects Jorge C/DRUIDA PROJECT/POC/dbGeneration_v0/Models/testing-multioutput/meta-atom_box_01_datageneration.aedt\"\n",
      "The new directory is created!\n",
      "\"C:/Users/jorge/Documents/Projects Jorge C/DRUIDA PROJECT/POC/dbGeneration_v0/Models/testing-multioutput/meta-atom_box_01_datageneration.aedt\"\n",
      "The new directory is created!\n"
     ]
    }
   ],
   "source": [
    "\n",
    "batch=0\n",
    "iteration=0\n",
    "simfile_path= \"C:\\\\Users\\\\jorge\\\\Documents\\\\Projects Jorge C\\\\DRUIDA PROJECT\\\\POC\\\\dbGeneration_v0\\\\\"\n",
    "simfileName= \"intermediateFile.py\"\n",
    "\n",
    "#set reports\n",
    "reports={\n",
    "    \"ReflectanceTE\":\"(mag(S(FloquetPort1:1,FloquetPort1:1)))^2\",\n",
    "    \"ReflectanceTM\":\"(mag(S(FloquetPort1:2,FloquetPort1:2)))^2\"\n",
    "    }\n",
    "\n",
    "constraints = {\"xSize\":{\"max\":4, \"min\":0.3,\"nominal\":1},\n",
    "            \"ySize\":{\"max\":4, \"min\":0.3,\"nominal\":1},\n",
    "            \"zSize\":{\"max\":0.08, \"min\":0.6,\"nominal\":0.5},\n",
    "            \"zSustrato\":{\"max\":1.5, \"min\":0.5,\"nominal\":1}}\n",
    "\n",
    "parameters = parameters_Generator(constraints, 3, 4)     \n",
    "\n",
    "\n",
    "for parameter in parameters:\n",
    "    \n",
    "    \n",
    "    #parameters, batch, iteration, filePath, **kwargs\n",
    "    #Kwargs\n",
    "    #AnsoftPath=kwargs['ansoft_path']\n",
    "    #modelPath=kwargs['model_path'] \n",
    "    #outputPath=kwargs['output_path']\n",
    "    #projectName=kwargs['project_name']\n",
    "    #simulationID=kwargs['simulation_id']\n",
    "    #variableName=kwargs['variable_name']\n",
    "    #value=kwargs['value']\n",
    "    #units=kwargs['units']\n",
    "    #design=kwargs['design_name']\n",
    "\n",
    "    #Create the intermediate simulation fiel\n",
    "    \n",
    "    simulation_id=str(uuid.uuid1())\n",
    "\n",
    "    #set variables to modify\n",
    "    variable_name='parameters'\n",
    "    value=str(parameter)\n",
    "\n",
    "    units=\"mm\"\n",
    "    \n",
    "    kwargs={\n",
    "        \"reports\":reports,\n",
    "        \"simulation_id\":simulation_id,\n",
    "       \"variable_name\":variable_name,\n",
    "        \"value\" : value,\n",
    "        \"units\" : units,\n",
    "       }\n",
    "    \n",
    "    Builder.sim_file('', batch, iteration, simfile_path, **kwargs)\n",
    "    \n",
    "    Builder.simulate(simfile_path+simfileName)\n",
    "    \n",
    "    iteration+=iteration\n"
   ]
  },
  {
   "cell_type": "code",
   "execution_count": 38,
   "id": "0ff5c2c5-090d-4f5f-9aea-6bacc07aaf01",
   "metadata": {
    "tags": []
   },
   "outputs": [],
   "source": []
  },
  {
   "cell_type": "code",
   "execution_count": null,
   "id": "2e5b6788-375c-4740-afb7-24bef4fe0bea",
   "metadata": {},
   "outputs": [],
   "source": []
  },
  {
   "cell_type": "code",
   "execution_count": null,
   "id": "4e6f61a8-d02a-4e8d-9545-420ce74af426",
   "metadata": {},
   "outputs": [],
   "source": []
  },
  {
   "cell_type": "code",
   "execution_count": null,
   "id": "a5da1040-f7dd-4dc4-ae27-1f27731492c0",
   "metadata": {},
   "outputs": [],
   "source": []
  }
 ],
 "metadata": {
  "kernelspec": {
   "display_name": "Python 3 (ipykernel)",
   "language": "python",
   "name": "python3"
  },
  "language_info": {
   "codemirror_mode": {
    "name": "ipython",
    "version": 3
   },
   "file_extension": ".py",
   "mimetype": "text/x-python",
   "name": "python",
   "nbconvert_exporter": "python",
   "pygments_lexer": "ipython3",
   "version": "3.11.4"
  }
 },
 "nbformat": 4,
 "nbformat_minor": 5
}
